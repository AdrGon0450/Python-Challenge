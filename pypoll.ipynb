{
 "cells": [
  {
   "cell_type": "code",
   "execution_count": 2,
   "metadata": {},
   "outputs": [
    {
     "name": "stdout",
     "output_type": "stream",
     "text": [
      "Election Results\n",
      "-------------------------\n",
      "Total Votes: 369711\n",
      "-------------------------\n",
      "Charles Casper Stockham: 23.049% (85213)\n",
      "Diana DeGette: 73.812% (272892)\n",
      "Raymon Anthony Doane: 3.139% (11606)\n",
      "-------------------------\n",
      "Winner: Diana DeGette\n",
      "-------------------------\n"
     ]
    }
   ],
   "source": [
    "import csv\n",
    "\n",
    "# Path to the CSV file\n",
    "csv_file_path = \"../PyPoll/Resources/election_data.csv\"\n",
    "\n",
    "# Initialize variables to store election data\n",
    "total_votes = 0\n",
    "candidates = {}\n",
    "winner = None\n",
    "winner_votes = 0\n",
    "\n",
    "# Read the CSV file\n",
    "with open(csv_file_path, newline='') as csvfile:\n",
    "    csvreader = csv.reader(csvfile)\n",
    "    \n",
    "    # Skip the header row\n",
    "    next(csvreader)\n",
    "    \n",
    "    # Iterate through each row in the CSV file\n",
    "    for row in csvreader:\n",
    "        # Increment the total number of votes\n",
    "        total_votes += 1\n",
    "        \n",
    "        # Extract candidate name\n",
    "        candidate_name = row[2]\n",
    "        \n",
    "        # Add candidate to the dictionary if not already present\n",
    "        if candidate_name not in candidates:\n",
    "            candidates[candidate_name] = 0\n",
    "        \n",
    "        # Increment the vote count for the candidate\n",
    "        candidates[candidate_name] += 1\n",
    "\n",
    "# Calculate the percentage of votes each candidate won\n",
    "for candidate, votes in candidates.items():\n",
    "    percentage = (votes / total_votes) * 100\n",
    "    candidates[candidate] = (percentage, votes)\n",
    "    \n",
    "    # Determine the winner\n",
    "    if votes > winner_votes:\n",
    "        winner = candidate\n",
    "        winner_votes = votes\n",
    "\n",
    "# Output the analysis results\n",
    "print(\"Election Results\")\n",
    "print(\"-------------------------\")\n",
    "print(f\"Total Votes: {total_votes}\")\n",
    "print(\"-------------------------\")\n",
    "for candidate, (percentage, votes) in candidates.items():\n",
    "    print(f\"{candidate}: {percentage:.3f}% ({votes})\")\n",
    "print(\"-------------------------\")\n",
    "print(f\"Winner: {winner}\")\n",
    "print(\"-------------------------\")\n"
   ]
  }
 ],
 "metadata": {
  "kernelspec": {
   "display_name": "base",
   "language": "python",
   "name": "python3"
  },
  "language_info": {
   "codemirror_mode": {
    "name": "ipython",
    "version": 3
   },
   "file_extension": ".py",
   "mimetype": "text/x-python",
   "name": "python",
   "nbconvert_exporter": "python",
   "pygments_lexer": "ipython3",
   "version": "3.11.5"
  }
 },
 "nbformat": 4,
 "nbformat_minor": 2
}
