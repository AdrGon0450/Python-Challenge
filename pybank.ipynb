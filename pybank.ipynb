{
 "cells": [
  {
   "cell_type": "code",
   "execution_count": 36,
   "metadata": {},
   "outputs": [
    {
     "name": "stdout",
     "output_type": "stream",
     "text": [
      "Financial Analysis\n",
      "------------------\n",
      "Total Months: 86\n",
      "Total: $22564198\n",
      "Average Change: $-8311.11\n",
      "Greatest Increase in Profits: Aug-16 ($1862002)\n",
      "Greatest Decrease in Profits: Feb-14 ($-1825558)\n"
     ]
    }
   ],
   "source": [
    "import csv\n",
    "\n",
    "# Path to the CSV file\n",
    "csv_file_path = \"../PyBank/Resources/budget_data.csv\"\n",
    "\n",
    "# Initialize variables to store financial data\n",
    "total_months = 0\n",
    "net_total = 0\n",
    "previous_profit_loss = None\n",
    "total_change = 0\n",
    "greatest_increase = 0\n",
    "greatest_increase_date = None\n",
    "greatest_decrease = 0\n",
    "greatest_decrease_date = None\n",
    "\n",
    "# Read the CSV file\n",
    "with open(csv_file_path, newline='') as csvfile:\n",
    "    csvreader = csv.reader(csvfile)\n",
    "    \n",
    "    # Skip the header row\n",
    "    next(csvreader)\n",
    "    \n",
    "    # Iterate through each row in the CSV file\n",
    "    for row in csvreader:\n",
    "        # Increment the total number of months\n",
    "        total_months += 1\n",
    "        \n",
    "        # Extract profit/loss value\n",
    "        profit_loss = int(row[1])\n",
    "        \n",
    "        # Add profit/loss to net total\n",
    "        net_total += profit_loss\n",
    "        \n",
    "        # Calculate change in profit/loss (except for the first row)\n",
    "        if previous_profit_loss is not None:\n",
    "            change = profit_loss - previous_profit_loss\n",
    "            total_change += change\n",
    "            \n",
    "            # Check for greatest increase and decrease\n",
    "            if change > greatest_increase:\n",
    "                greatest_increase = change\n",
    "                greatest_increase_date = row[0]\n",
    "            elif change < greatest_decrease:\n",
    "                greatest_decrease = change\n",
    "                greatest_decrease_date = row[0]\n",
    "        \n",
    "        # Update previous profit/loss\n",
    "        previous_profit_loss = profit_loss\n",
    "\n",
    "# Calculate the average change in profit/loss\n",
    "average_change = total_change / (total_months - 1)\n",
    "\n",
    "# Output the analysis results\n",
    "print(\"Financial Analysis\")\n",
    "print(\"------------------\")\n",
    "print(f\"Total Months: {total_months}\")\n",
    "print(f\"Total: ${net_total}\")\n",
    "print(f\"Average Change: ${average_change:.2f}\")\n",
    "print(f\"Greatest Increase in Profits: {greatest_increase_date} (${greatest_increase})\")\n",
    "print(f\"Greatest Decrease in Profits: {greatest_decrease_date} (${greatest_decrease})\")\n"
   ]
  }
 ],
 "metadata": {
  "kernelspec": {
   "display_name": "base",
   "language": "python",
   "name": "python3"
  },
  "language_info": {
   "codemirror_mode": {
    "name": "ipython",
    "version": 3
   },
   "file_extension": ".py",
   "mimetype": "text/x-python",
   "name": "python",
   "nbconvert_exporter": "python",
   "pygments_lexer": "ipython3",
   "version": "3.11.5"
  }
 },
 "nbformat": 4,
 "nbformat_minor": 2
}
